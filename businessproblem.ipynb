{
 "cells": [
  {
   "cell_type": "markdown",
   "metadata": {
    "collapsed": true
   },
   "source": [
    "# Capstone Project - The Battle of Neighborhoods : Property Advisor – Choose Serene Family Home Location¶"
   ]
  },
  {
   "cell_type": "markdown",
   "metadata": {},
   "source": [
    "**Introduction**"
   ]
  },
  {
   "cell_type": "markdown",
   "metadata": {},
   "source": [
    "ABCD is a Poperty management company.The Company predicts/advise their customers who is planning to shift to a new location for settling down.People leave their current location for various reasons like job transfers,purpose of education or for a better living. One of the most important factors that needs to be considered while planning to shift to a new city/place is amenities or facilities provided by the place where you chose to live. We would be happier or satisfied in our residence or place, if basic amenities like healthcare facility,educational institution,work place,public transport,food options,place of worship,parks etc are available nearby to our residential area. Therefore, main aim of company is to predict the best options,by which customers can select a best residential location. For example, if customer is planning to moving to Los Angeles with his family, we would like to predict the nearby town or place for them to pick best residential area.\n",
    "\n",
    "Based on the area a customer would like to shift, with the help of location data of that area and the categories of interest of the customer including basic amenities required by family, we wil provide various options to the customer. This project aims to group the areas in a location as different clusters and make decisions based on it.\n",
    "\n",
    "The ABCD Company would be able to provide helpful information for their customers and they would be able to pick the residential area accordingly. The customers would be highly satisfied with the service the Company is providing and this would help to increase the reputation of the company and gain more customers.This will help make their life easy in a new city or country\n",
    "\n"
   ]
  },
  {
   "cell_type": "markdown",
   "metadata": {},
   "source": [
    "**Data Description**"
   ]
  },
  {
   "cell_type": "markdown",
   "metadata": {},
   "source": [
    "One city will be analysed in this project. Based on the city, the latitude and longitude values will be obtained by using geopy module. The data used in this project is provided by Foursquare location data. The city’s latitude and longitude values will be used to extract the venues data from Foursquare location data using explore endpoint. From the obtained results which is a JSON file, we will filter the columns and create a table/dataframe. The table or Dataframe will have various categories like school, hospital,supermarket,bank,public transport,parks..etc information provided by a particular city. Analyzing the various amenities offered by the city, using kmeans clustering,we will choose best residential area that provides all facilities for a family to reside. "
   ]
  },
  {
   "cell_type": "code",
   "execution_count": null,
   "metadata": {},
   "outputs": [],
   "source": []
  }
 ],
 "metadata": {
  "kernelspec": {
   "display_name": "Python 3.6",
   "language": "python",
   "name": "python3"
  },
  "language_info": {
   "codemirror_mode": {
    "name": "ipython",
    "version": 3
   },
   "file_extension": ".py",
   "mimetype": "text/x-python",
   "name": "python",
   "nbconvert_exporter": "python",
   "pygments_lexer": "ipython3",
   "version": "3.6.8"
  }
 },
 "nbformat": 4,
 "nbformat_minor": 1
}
