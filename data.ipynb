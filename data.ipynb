{
 "cells": [
  {
   "cell_type": "markdown",
   "metadata": {},
   "source": [
    "**Data Description**"
   ]
  },
  {
   "cell_type": "markdown",
   "metadata": {},
   "source": [
    "One city will be analysed in this project. Based on the city, the latitude and longitude values will be obtained by using geopy module. The data used in this project is provided by Foursquare location data. The city’s latitude and longitude values will be used to extract the venues data from Foursquare location data using explore endpoint. From the obtained results which is a JSON file, we will filter the columns and create a table/dataframe. The table or Dataframe will have various categories like school, hospital,supermarket,bank,public transport,parks..etc information provided by a particular city. Analyzing the various amenities offered by the city, using kmeans clustering,we will choose best residential area that provides all facilities for a family to reside. This will help make their life easy in a new city or country"
   ]
  }
 ],
 "metadata": {
  "kernelspec": {
   "display_name": "Python 3",
   "language": "python",
   "name": "python3"
  },
  "language_info": {
   "codemirror_mode": {
    "name": "ipython",
    "version": 3
   },
   "file_extension": ".py",
   "mimetype": "text/x-python",
   "name": "python",
   "nbconvert_exporter": "python",
   "pygments_lexer": "ipython3",
   "version": "3.7.1"
  }
 },
 "nbformat": 4,
 "nbformat_minor": 2
}
