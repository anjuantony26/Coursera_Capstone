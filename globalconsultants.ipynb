{
 "cells": [
  {
   "cell_type": "markdown",
   "metadata": {},
   "source": [
    "# Capstone Project - The Battle of Neighborhoods : Global Consultants"
   ]
  },
  {
   "cell_type": "markdown",
   "metadata": {},
   "source": [
    "**Introduction**"
   ]
  },
  {
   "cell_type": "markdown",
   "metadata": {},
   "source": [
    "Global Consultants is a consulting company that helps/advise their customers who is planning to shift to a new location for settling down.People leave their current location for various reasons like job transfers or for a better living. One of the most important factors that needs to be considered while planning to shift to a new city/place is job opportunities,amenities or facilities provided by the place where you chose to live. We would be able to enjoy life if we have a steady income. We would be happier or satisfied in our residence or place, if there are variety of options to earn a living and enjoy life. Therefore, main aim of company is to predict the best options,by which customers can select a best location to earn a living or enjoy life.For example, if customer is planning to moving to California , we would like to predict the nearby town or place that provides opportunities to earn a living and all amenities for them to enjoy.\n",
    "\n",
    "Based on the area a customer would like to shift, with the help of location data of that area and the categories of interest of the customer including basic amenities , we wil provide various options to the customer. This project aims to group the areas in a location as different clusters and make decisions based on it.\n",
    "\n",
    "The Global Consultants Company would be able to provide helpful information for their customers and they would be able to pick the best place to live accordingly. The customers would be highly satisfied with the service the Company is providing and this would help to increase the reputation of the company and gain more customers.This will help make their life easy in a new city or country."
   ]
  },
  {
   "cell_type": "markdown",
   "metadata": {},
   "source": [
    "**Data Description**"
   ]
  },
  {
   "cell_type": "markdown",
   "metadata": {},
   "source": [
    "One city will be analysed in this project. Based on the city, the latitude and longitude values will be obtained by using geopy module. The data used in this project is provided by Foursquare location data.The only limitation includes the data obtained from Foursquare. The city’s latitude and longitude values will be used to extract the venues data from Foursquare location data using explore endpoint. From the obtained results which is a JSON file, we will filter the columns and create a table/dataframe. The table or Dataframe will have various categories like park,restaurants,bars,..etc information provided by a particular city. Analyzing the various categories offered by the city, using kmeans clustering,we will choose best location that provides all facilities for the customer to shift to a new city or country."
   ]
  },
  {
   "cell_type": "markdown",
   "metadata": {},
   "source": [
    "**Import required libraries**"
   ]
  },
  {
   "cell_type": "markdown",
   "metadata": {},
   "source": [
    "import requests # library to handle requests\n",
    "import pandas as pd # library for data analsysis\n",
    "import numpy as np # library to handle data in a vectorized manner\n",
    "import random # library for random number generation\n",
    "\n",
    "!conda install -c conda-forge geopy --yes \n",
    "from geopy.geocoders import Nominatim # module to convert an address into latitude and longitude values\n",
    "\n",
    "# tranforming json file into a pandas dataframe library\n",
    "from pandas.io.json import json_normalize\n",
    "\n",
    "!conda install -c conda-forge folium=0.5.0 --yes\n",
    "import folium # plotting library\n",
    "\n",
    "from sklearn.cluster import KMeans\n",
    "\n",
    "print('Libraries imported.')"
   ]
  },
  {
   "cell_type": "markdown",
   "metadata": {},
   "source": [
    "**Define Foursquare Credentials**"
   ]
  },
  {
   "cell_type": "code",
   "execution_count": 2,
   "metadata": {},
   "outputs": [
    {
     "name": "stdout",
     "output_type": "stream",
     "text": [
      "Your credentails:\n",
      "CLIENT_ID: UQYLU3SP4ZRGQ5WRZI2MJ2RPTB0XQY4GD3RC1L12PALWXRMW\n",
      "CLIENT_SECRET:OUNX25AU0HD3KYJRKAV1BAFRQNZI4C1VOICTKZ1PN42CPMBD\n"
     ]
    }
   ],
   "source": [
    "CLIENT_ID = 'UQYLU3SP4ZRGQ5WRZI2MJ2RPTB0XQY4GD3RC1L12PALWXRMW' # your Foursquare ID\n",
    "CLIENT_SECRET = 'OUNX25AU0HD3KYJRKAV1BAFRQNZI4C1VOICTKZ1PN42CPMBD' # your Foursquare Secret\n",
    "VERSION = '20180605' # Foursquare API version\n",
    "LIMIT=100\n",
    "print('Your credentails:')\n",
    "print('CLIENT_ID: ' + CLIENT_ID)\n",
    "print('CLIENT_SECRET:' + CLIENT_SECRET)"
   ]
  },
  {
   "cell_type": "markdown",
   "metadata": {},
   "source": [
    "**Define the city and get its latitude & longitude**"
   ]
  },
  {
   "cell_type": "code",
   "execution_count": 3,
   "metadata": {},
   "outputs": [
    {
     "name": "stdout",
     "output_type": "stream",
     "text": [
      "The geograpical coordinate of California are : 36.7014631 -118.7559974\n"
     ]
    }
   ],
   "source": [
    "address = 'California, USA'\n",
    "\n",
    "geolocator = Nominatim(user_agent=\"foursquare_agent\")\n",
    "location = geolocator.geocode(address)\n",
    "latitude = location.latitude\n",
    "longitude = location.longitude\n",
    "print('The geograpical coordinate of California are :',latitude, longitude)"
   ]
  },
  {
   "cell_type": "markdown",
   "metadata": {},
   "source": [
    "**Explore the venues around the city**"
   ]
  },
  {
   "cell_type": "code",
   "execution_count": 4,
   "metadata": {},
   "outputs": [
    {
     "data": {
      "text/plain": [
       "'https://api.foursquare.com/v2/venues/explore?client_id=UQYLU3SP4ZRGQ5WRZI2MJ2RPTB0XQY4GD3RC1L12PALWXRMW&client_secret=OUNX25AU0HD3KYJRKAV1BAFRQNZI4C1VOICTKZ1PN42CPMBD&ll=36.7014631,-118.7559974&v=20180605&radius=150000&limit=100'"
      ]
     },
     "execution_count": 4,
     "metadata": {},
     "output_type": "execute_result"
    }
   ],
   "source": [
    "# Define the corresponding URL\n",
    "radius=150000\n",
    "url = 'https://api.foursquare.com/v2/venues/explore?client_id={}&client_secret={}&ll={},{}&v={}&radius={}&limit={}'.format(CLIENT_ID, CLIENT_SECRET, latitude, longitude, VERSION, radius, LIMIT)\n",
    "url\n"
   ]
  },
  {
   "cell_type": "code",
   "execution_count": 5,
   "metadata": {},
   "outputs": [
    {
     "name": "stdout",
     "output_type": "stream",
     "text": [
      "There are 100 Venues.\n"
     ]
    },
    {
     "data": {
      "text/plain": [
       "{'reasons': {'count': 0,\n",
       "  'items': [{'summary': 'This spot is popular',\n",
       "    'type': 'general',\n",
       "    'reasonName': 'globalInteractionReason'}]},\n",
       " 'venue': {'id': '4c9034380b9e3704c709665e',\n",
       "  'name': 'General Sherman Tree',\n",
       "  'location': {'address': 'Sequoia National Park',\n",
       "   'lat': 36.58168963841338,\n",
       "   'lng': -118.75145625841009,\n",
       "   'labeledLatLngs': [{'label': 'display',\n",
       "     'lat': 36.58168963841338,\n",
       "     'lng': -118.75145625841009}],\n",
       "   'distance': 13339,\n",
       "   'postalCode': '93262',\n",
       "   'cc': 'US',\n",
       "   'city': 'Sequoia',\n",
       "   'state': 'CA',\n",
       "   'country': 'United States',\n",
       "   'formattedAddress': ['Sequoia National Park',\n",
       "    'Sequoia, CA 93262',\n",
       "    'United States']},\n",
       "  'categories': [{'id': '52e81612bcbc57f1066b7a24',\n",
       "    'name': 'Tree',\n",
       "    'pluralName': 'Trees',\n",
       "    'shortName': 'Tree',\n",
       "    'icon': {'prefix': 'https://ss3.4sqi.net/img/categories_v2/parks_outdoors/default_',\n",
       "     'suffix': '.png'},\n",
       "    'primary': True}],\n",
       "  'photos': {'count': 0, 'groups': []}},\n",
       " 'referralId': 'e-0-4c9034380b9e3704c709665e-0'}"
      ]
     },
     "execution_count": 5,
     "metadata": {},
     "output_type": "execute_result"
    }
   ],
   "source": [
    "# Send the GET Request and examine the results\n",
    "results = requests.get(url).json()\n",
    "results\n",
    "print('There are {} Venues.'.format(len(results['response']['groups'][0]['items'])))\n",
    "items = results['response']['groups'][0]['items']\n",
    "items[0]"
   ]
  },
  {
   "cell_type": "code",
   "execution_count": 6,
   "metadata": {},
   "outputs": [],
   "source": [
    "# function that extracts the category of the venue\n",
    "def get_category_type(row):\n",
    "    try:\n",
    "        categories_list = row['categories']\n",
    "    except:\n",
    "        categories_list = row['venue.categories']\n",
    "        \n",
    "    if len(categories_list) == 0:\n",
    "        return None\n",
    "    else:\n",
    "        return categories_list[0]['name']"
   ]
  },
  {
   "cell_type": "code",
   "execution_count": 7,
   "metadata": {},
   "outputs": [],
   "source": [
    "dataframe = json_normalize(items) # flatten JSON\n",
    "\n",
    "# filter columns\n",
    "filtered_columns = ['venue.name', 'venue.categories'] + [col for col in dataframe.columns if col.startswith('venue.location.')] + ['venue.id']\n",
    "dataframe_filtered = dataframe.loc[:, filtered_columns]\n",
    "\n",
    "# filter the category for each row\n",
    "dataframe_filtered['venue.categories'] = dataframe_filtered.apply(get_category_type, axis=1)\n",
    "\n",
    "# clean columns\n",
    "dataframe_filtered.columns = [col.split('.')[-1] for col in dataframe_filtered.columns]"
   ]
  },
  {
   "cell_type": "markdown",
   "metadata": {},
   "source": [
    "**Display Dataframe obtained**"
   ]
  },
  {
   "cell_type": "code",
   "execution_count": 8,
   "metadata": {},
   "outputs": [
    {
     "data": {
      "text/html": [
       "<div>\n",
       "<style scoped>\n",
       "    .dataframe tbody tr th:only-of-type {\n",
       "        vertical-align: middle;\n",
       "    }\n",
       "\n",
       "    .dataframe tbody tr th {\n",
       "        vertical-align: top;\n",
       "    }\n",
       "\n",
       "    .dataframe thead th {\n",
       "        text-align: right;\n",
       "    }\n",
       "</style>\n",
       "<table border=\"1\" class=\"dataframe\">\n",
       "  <thead>\n",
       "    <tr style=\"text-align: right;\">\n",
       "      <th></th>\n",
       "      <th>name</th>\n",
       "      <th>categories</th>\n",
       "      <th>address</th>\n",
       "      <th>lat</th>\n",
       "      <th>lng</th>\n",
       "      <th>labeledLatLngs</th>\n",
       "      <th>distance</th>\n",
       "      <th>postalCode</th>\n",
       "      <th>cc</th>\n",
       "      <th>city</th>\n",
       "      <th>state</th>\n",
       "      <th>country</th>\n",
       "      <th>formattedAddress</th>\n",
       "      <th>crossStreet</th>\n",
       "      <th>neighborhood</th>\n",
       "      <th>id</th>\n",
       "    </tr>\n",
       "  </thead>\n",
       "  <tbody>\n",
       "    <tr>\n",
       "      <td>0</td>\n",
       "      <td>General Sherman Tree</td>\n",
       "      <td>Tree</td>\n",
       "      <td>Sequoia National Park</td>\n",
       "      <td>36.581690</td>\n",
       "      <td>-118.751456</td>\n",
       "      <td>[{'label': 'display', 'lat': 36.58168963841338...</td>\n",
       "      <td>13339</td>\n",
       "      <td>93262</td>\n",
       "      <td>US</td>\n",
       "      <td>Sequoia</td>\n",
       "      <td>CA</td>\n",
       "      <td>United States</td>\n",
       "      <td>[Sequoia National Park, Sequoia, CA 93262, Uni...</td>\n",
       "      <td>NaN</td>\n",
       "      <td>NaN</td>\n",
       "      <td>4c9034380b9e3704c709665e</td>\n",
       "    </tr>\n",
       "    <tr>\n",
       "      <td>1</td>\n",
       "      <td>Kings Canyon National Park</td>\n",
       "      <td>National Park</td>\n",
       "      <td>State Highway 180</td>\n",
       "      <td>36.740316</td>\n",
       "      <td>-118.963127</td>\n",
       "      <td>[{'label': 'display', 'lat': 36.74031630118368...</td>\n",
       "      <td>18981</td>\n",
       "      <td>93633</td>\n",
       "      <td>US</td>\n",
       "      <td>Sierra</td>\n",
       "      <td>CA</td>\n",
       "      <td>United States</td>\n",
       "      <td>[State Highway 180, Sierra, CA 93633, United S...</td>\n",
       "      <td>NaN</td>\n",
       "      <td>NaN</td>\n",
       "      <td>4da5f33393a01f42fad18fce</td>\n",
       "    </tr>\n",
       "    <tr>\n",
       "      <td>2</td>\n",
       "      <td>General Grant Tree</td>\n",
       "      <td>Tree</td>\n",
       "      <td>NaN</td>\n",
       "      <td>36.748025</td>\n",
       "      <td>-118.971573</td>\n",
       "      <td>[{'label': 'display', 'lat': 36.748025, 'lng':...</td>\n",
       "      <td>19920</td>\n",
       "      <td>93628</td>\n",
       "      <td>US</td>\n",
       "      <td>Hume</td>\n",
       "      <td>CA</td>\n",
       "      <td>United States</td>\n",
       "      <td>[Hume, CA 93628, United States]</td>\n",
       "      <td>NaN</td>\n",
       "      <td>NaN</td>\n",
       "      <td>50189051e4b06251be6d0465</td>\n",
       "    </tr>\n",
       "    <tr>\n",
       "      <td>3</td>\n",
       "      <td>Kings Canyon Outlook</td>\n",
       "      <td>Scenic Lookout</td>\n",
       "      <td>NaN</td>\n",
       "      <td>36.719582</td>\n",
       "      <td>-118.897462</td>\n",
       "      <td>[{'label': 'display', 'lat': 36.71958230036856...</td>\n",
       "      <td>12784</td>\n",
       "      <td>93262</td>\n",
       "      <td>US</td>\n",
       "      <td>Sequoia National Park</td>\n",
       "      <td>CA</td>\n",
       "      <td>United States</td>\n",
       "      <td>[Sequoia National Park, CA 93262, United States]</td>\n",
       "      <td>NaN</td>\n",
       "      <td>NaN</td>\n",
       "      <td>4fd515dee4b06a2d8dd57917</td>\n",
       "    </tr>\n",
       "    <tr>\n",
       "      <td>4</td>\n",
       "      <td>Moro Rock</td>\n",
       "      <td>Mountain</td>\n",
       "      <td>NaN</td>\n",
       "      <td>36.544133</td>\n",
       "      <td>-118.765223</td>\n",
       "      <td>[{'label': 'display', 'lat': 36.54413327593281...</td>\n",
       "      <td>17533</td>\n",
       "      <td>93262</td>\n",
       "      <td>US</td>\n",
       "      <td>NaN</td>\n",
       "      <td>California</td>\n",
       "      <td>United States</td>\n",
       "      <td>[CA 93262, United States]</td>\n",
       "      <td>NaN</td>\n",
       "      <td>NaN</td>\n",
       "      <td>543fd18d498e66a3b41d3880</td>\n",
       "    </tr>\n",
       "  </tbody>\n",
       "</table>\n",
       "</div>"
      ],
      "text/plain": [
       "                         name      categories                address  \\\n",
       "0        General Sherman Tree            Tree  Sequoia National Park   \n",
       "1  Kings Canyon National Park   National Park      State Highway 180   \n",
       "2          General Grant Tree            Tree                    NaN   \n",
       "3        Kings Canyon Outlook  Scenic Lookout                    NaN   \n",
       "4                   Moro Rock        Mountain                    NaN   \n",
       "\n",
       "         lat         lng                                     labeledLatLngs  \\\n",
       "0  36.581690 -118.751456  [{'label': 'display', 'lat': 36.58168963841338...   \n",
       "1  36.740316 -118.963127  [{'label': 'display', 'lat': 36.74031630118368...   \n",
       "2  36.748025 -118.971573  [{'label': 'display', 'lat': 36.748025, 'lng':...   \n",
       "3  36.719582 -118.897462  [{'label': 'display', 'lat': 36.71958230036856...   \n",
       "4  36.544133 -118.765223  [{'label': 'display', 'lat': 36.54413327593281...   \n",
       "\n",
       "   distance postalCode  cc                   city       state        country  \\\n",
       "0     13339      93262  US                Sequoia          CA  United States   \n",
       "1     18981      93633  US                 Sierra          CA  United States   \n",
       "2     19920      93628  US                   Hume          CA  United States   \n",
       "3     12784      93262  US  Sequoia National Park          CA  United States   \n",
       "4     17533      93262  US                    NaN  California  United States   \n",
       "\n",
       "                                    formattedAddress crossStreet neighborhood  \\\n",
       "0  [Sequoia National Park, Sequoia, CA 93262, Uni...         NaN          NaN   \n",
       "1  [State Highway 180, Sierra, CA 93633, United S...         NaN          NaN   \n",
       "2                    [Hume, CA 93628, United States]         NaN          NaN   \n",
       "3   [Sequoia National Park, CA 93262, United States]         NaN          NaN   \n",
       "4                          [CA 93262, United States]         NaN          NaN   \n",
       "\n",
       "                         id  \n",
       "0  4c9034380b9e3704c709665e  \n",
       "1  4da5f33393a01f42fad18fce  \n",
       "2  50189051e4b06251be6d0465  \n",
       "3  4fd515dee4b06a2d8dd57917  \n",
       "4  543fd18d498e66a3b41d3880  "
      ]
     },
     "execution_count": 8,
     "metadata": {},
     "output_type": "execute_result"
    }
   ],
   "source": [
    "dataframe_filtered.head()"
   ]
  },
  {
   "cell_type": "code",
   "execution_count": 9,
   "metadata": {},
   "outputs": [
    {
     "data": {
      "text/plain": [
       "array(['Tree', 'National Park', 'Scenic Lookout', 'Mountain',\n",
       "       'Tourist Information Center', 'New American Restaurant',\n",
       "       'Burger Joint', 'Gastropub', 'Historic Site',\n",
       "       'American Restaurant', 'BBQ Joint', 'Liquor Store',\n",
       "       'Sushi Restaurant', 'Warehouse Store', 'Factory',\n",
       "       'Japanese Restaurant', 'Donut Shop', 'Coffee Shop', 'Pizza Place',\n",
       "       'Mexican Restaurant', 'Bakery', 'Movie Theater', 'Pet Store',\n",
       "       'Frozen Yogurt Shop', 'Italian Restaurant', 'Deli / Bodega',\n",
       "       'Sports Bar', 'Grocery Store', 'Breakfast Spot', 'Ice Cream Shop',\n",
       "       'Park', 'Water Park', 'Gym', 'Theater', 'Steakhouse', 'Market',\n",
       "       'Brewery', 'Multiplex', 'Mediterranean Restaurant',\n",
       "       'Garden Center', 'Zoo Exhibit', 'Bar', 'Indian Restaurant',\n",
       "       'Fast Food Restaurant', 'Shopping Mall', 'Arts & Crafts Store',\n",
       "       'Lounge', 'Zoo', 'Seafood Restaurant', 'Diner', 'Sandwich Place',\n",
       "       'College Basketball Court'], dtype=object)"
      ]
     },
     "execution_count": 9,
     "metadata": {},
     "output_type": "execute_result"
    }
   ],
   "source": [
    "dataframe_filtered.categories.unique()"
   ]
  },
  {
   "cell_type": "code",
   "execution_count": 10,
   "metadata": {},
   "outputs": [
    {
     "data": {
      "text/html": [
       "<div>\n",
       "<style scoped>\n",
       "    .dataframe tbody tr th:only-of-type {\n",
       "        vertical-align: middle;\n",
       "    }\n",
       "\n",
       "    .dataframe tbody tr th {\n",
       "        vertical-align: top;\n",
       "    }\n",
       "\n",
       "    .dataframe thead th {\n",
       "        text-align: right;\n",
       "    }\n",
       "</style>\n",
       "<table border=\"1\" class=\"dataframe\">\n",
       "  <thead>\n",
       "    <tr style=\"text-align: right;\">\n",
       "      <th></th>\n",
       "      <th>name</th>\n",
       "      <th>categories</th>\n",
       "      <th>lat</th>\n",
       "      <th>lng</th>\n",
       "      <th>city</th>\n",
       "    </tr>\n",
       "  </thead>\n",
       "  <tbody>\n",
       "    <tr>\n",
       "      <td>0</td>\n",
       "      <td>General Sherman Tree</td>\n",
       "      <td>Tree</td>\n",
       "      <td>36.581690</td>\n",
       "      <td>-118.751456</td>\n",
       "      <td>Sequoia</td>\n",
       "    </tr>\n",
       "    <tr>\n",
       "      <td>1</td>\n",
       "      <td>Kings Canyon National Park</td>\n",
       "      <td>National Park</td>\n",
       "      <td>36.740316</td>\n",
       "      <td>-118.963127</td>\n",
       "      <td>Sierra</td>\n",
       "    </tr>\n",
       "    <tr>\n",
       "      <td>2</td>\n",
       "      <td>General Grant Tree</td>\n",
       "      <td>Tree</td>\n",
       "      <td>36.748025</td>\n",
       "      <td>-118.971573</td>\n",
       "      <td>Hume</td>\n",
       "    </tr>\n",
       "    <tr>\n",
       "      <td>3</td>\n",
       "      <td>Kings Canyon Outlook</td>\n",
       "      <td>Scenic Lookout</td>\n",
       "      <td>36.719582</td>\n",
       "      <td>-118.897462</td>\n",
       "      <td>Sequoia National Park</td>\n",
       "    </tr>\n",
       "    <tr>\n",
       "      <td>4</td>\n",
       "      <td>Moro Rock</td>\n",
       "      <td>Mountain</td>\n",
       "      <td>36.544133</td>\n",
       "      <td>-118.765223</td>\n",
       "      <td>NaN</td>\n",
       "    </tr>\n",
       "  </tbody>\n",
       "</table>\n",
       "</div>"
      ],
      "text/plain": [
       "                         name      categories        lat         lng  \\\n",
       "0        General Sherman Tree            Tree  36.581690 -118.751456   \n",
       "1  Kings Canyon National Park   National Park  36.740316 -118.963127   \n",
       "2          General Grant Tree            Tree  36.748025 -118.971573   \n",
       "3        Kings Canyon Outlook  Scenic Lookout  36.719582 -118.897462   \n",
       "4                   Moro Rock        Mountain  36.544133 -118.765223   \n",
       "\n",
       "                    city  \n",
       "0                Sequoia  \n",
       "1                 Sierra  \n",
       "2                   Hume  \n",
       "3  Sequoia National Park  \n",
       "4                    NaN  "
      ]
     },
     "execution_count": 10,
     "metadata": {},
     "output_type": "execute_result"
    }
   ],
   "source": [
    "df1=dataframe_filtered.drop(['address','distance','labeledLatLngs','postalCode','cc','state','country','formattedAddress','crossStreet','id','neighborhood'], axis=1)\n",
    "df1.head()"
   ]
  },
  {
   "cell_type": "code",
   "execution_count": 11,
   "metadata": {},
   "outputs": [
    {
     "data": {
      "text/html": [
       "<div>\n",
       "<style scoped>\n",
       "    .dataframe tbody tr th:only-of-type {\n",
       "        vertical-align: middle;\n",
       "    }\n",
       "\n",
       "    .dataframe tbody tr th {\n",
       "        vertical-align: top;\n",
       "    }\n",
       "\n",
       "    .dataframe thead th {\n",
       "        text-align: right;\n",
       "    }\n",
       "</style>\n",
       "<table border=\"1\" class=\"dataframe\">\n",
       "  <thead>\n",
       "    <tr style=\"text-align: right;\">\n",
       "      <th></th>\n",
       "      <th>name</th>\n",
       "      <th>categories</th>\n",
       "      <th>lat</th>\n",
       "      <th>lng</th>\n",
       "    </tr>\n",
       "    <tr>\n",
       "      <th>city</th>\n",
       "      <th></th>\n",
       "      <th></th>\n",
       "      <th></th>\n",
       "      <th></th>\n",
       "    </tr>\n",
       "  </thead>\n",
       "  <tbody>\n",
       "    <tr>\n",
       "      <td>Sequoia</td>\n",
       "      <td>General Sherman Tree</td>\n",
       "      <td>Tree</td>\n",
       "      <td>36.581690</td>\n",
       "      <td>-118.751456</td>\n",
       "    </tr>\n",
       "    <tr>\n",
       "      <td>Sierra</td>\n",
       "      <td>Kings Canyon National Park</td>\n",
       "      <td>National Park</td>\n",
       "      <td>36.740316</td>\n",
       "      <td>-118.963127</td>\n",
       "    </tr>\n",
       "    <tr>\n",
       "      <td>Hume</td>\n",
       "      <td>General Grant Tree</td>\n",
       "      <td>Tree</td>\n",
       "      <td>36.748025</td>\n",
       "      <td>-118.971573</td>\n",
       "    </tr>\n",
       "    <tr>\n",
       "      <td>Sequoia National Park</td>\n",
       "      <td>Kings Canyon Outlook</td>\n",
       "      <td>Scenic Lookout</td>\n",
       "      <td>36.719582</td>\n",
       "      <td>-118.897462</td>\n",
       "    </tr>\n",
       "    <tr>\n",
       "      <td>NaN</td>\n",
       "      <td>Moro Rock</td>\n",
       "      <td>Mountain</td>\n",
       "      <td>36.544133</td>\n",
       "      <td>-118.765223</td>\n",
       "    </tr>\n",
       "  </tbody>\n",
       "</table>\n",
       "</div>"
      ],
      "text/plain": [
       "                                             name      categories        lat  \\\n",
       "city                                                                           \n",
       "Sequoia                      General Sherman Tree            Tree  36.581690   \n",
       "Sierra                 Kings Canyon National Park   National Park  36.740316   \n",
       "Hume                           General Grant Tree            Tree  36.748025   \n",
       "Sequoia National Park        Kings Canyon Outlook  Scenic Lookout  36.719582   \n",
       "NaN                                     Moro Rock        Mountain  36.544133   \n",
       "\n",
       "                              lng  \n",
       "city                               \n",
       "Sequoia               -118.751456  \n",
       "Sierra                -118.963127  \n",
       "Hume                  -118.971573  \n",
       "Sequoia National Park -118.897462  \n",
       "NaN                   -118.765223  "
      ]
     },
     "execution_count": 11,
     "metadata": {},
     "output_type": "execute_result"
    }
   ],
   "source": [
    "df2=df1.set_index('city')\n",
    "df2.head()"
   ]
  },
  {
   "cell_type": "code",
   "execution_count": 12,
   "metadata": {},
   "outputs": [
    {
     "data": {
      "text/html": [
       "<div>\n",
       "<style scoped>\n",
       "    .dataframe tbody tr th:only-of-type {\n",
       "        vertical-align: middle;\n",
       "    }\n",
       "\n",
       "    .dataframe tbody tr th {\n",
       "        vertical-align: top;\n",
       "    }\n",
       "\n",
       "    .dataframe thead th {\n",
       "        text-align: right;\n",
       "    }\n",
       "</style>\n",
       "<table border=\"1\" class=\"dataframe\">\n",
       "  <thead>\n",
       "    <tr style=\"text-align: right;\">\n",
       "      <th></th>\n",
       "      <th>city</th>\n",
       "      <th>name</th>\n",
       "      <th>categories</th>\n",
       "      <th>lat</th>\n",
       "      <th>lng</th>\n",
       "    </tr>\n",
       "  </thead>\n",
       "  <tbody>\n",
       "    <tr>\n",
       "      <td>0</td>\n",
       "      <td>Sequoia</td>\n",
       "      <td>General Sherman Tree</td>\n",
       "      <td>Tree</td>\n",
       "      <td>36.581690</td>\n",
       "      <td>-118.751456</td>\n",
       "    </tr>\n",
       "    <tr>\n",
       "      <td>1</td>\n",
       "      <td>Sierra</td>\n",
       "      <td>Kings Canyon National Park</td>\n",
       "      <td>National Park</td>\n",
       "      <td>36.740316</td>\n",
       "      <td>-118.963127</td>\n",
       "    </tr>\n",
       "    <tr>\n",
       "      <td>2</td>\n",
       "      <td>Hume</td>\n",
       "      <td>General Grant Tree</td>\n",
       "      <td>Tree</td>\n",
       "      <td>36.748025</td>\n",
       "      <td>-118.971573</td>\n",
       "    </tr>\n",
       "    <tr>\n",
       "      <td>3</td>\n",
       "      <td>Sequoia National Park</td>\n",
       "      <td>Kings Canyon Outlook</td>\n",
       "      <td>Scenic Lookout</td>\n",
       "      <td>36.719582</td>\n",
       "      <td>-118.897462</td>\n",
       "    </tr>\n",
       "    <tr>\n",
       "      <td>4</td>\n",
       "      <td>NaN</td>\n",
       "      <td>Moro Rock</td>\n",
       "      <td>Mountain</td>\n",
       "      <td>36.544133</td>\n",
       "      <td>-118.765223</td>\n",
       "    </tr>\n",
       "  </tbody>\n",
       "</table>\n",
       "</div>"
      ],
      "text/plain": [
       "                    city                        name      categories  \\\n",
       "0                Sequoia        General Sherman Tree            Tree   \n",
       "1                 Sierra  Kings Canyon National Park   National Park   \n",
       "2                   Hume          General Grant Tree            Tree   \n",
       "3  Sequoia National Park        Kings Canyon Outlook  Scenic Lookout   \n",
       "4                    NaN                   Moro Rock        Mountain   \n",
       "\n",
       "         lat         lng  \n",
       "0  36.581690 -118.751456  \n",
       "1  36.740316 -118.963127  \n",
       "2  36.748025 -118.971573  \n",
       "3  36.719582 -118.897462  \n",
       "4  36.544133 -118.765223  "
      ]
     },
     "execution_count": 12,
     "metadata": {},
     "output_type": "execute_result"
    }
   ],
   "source": [
    "df3=df2.reset_index()\n",
    "df3.head()"
   ]
  },
  {
   "cell_type": "code",
   "execution_count": 13,
   "metadata": {},
   "outputs": [
    {
     "data": {
      "text/html": [
       "<div style=\"width:100%;\"><div style=\"position:relative;width:100%;height:0;padding-bottom:60%;\"><iframe src=\"data:text/html;charset=utf-8;base64,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\" style=\"position:absolute;width:100%;height:100%;left:0;top:0;border:none !important;\" allowfullscreen webkitallowfullscreen mozallowfullscreen></iframe></div></div>"
      ],
      "text/plain": [
       "<folium.folium.Map at 0x7f3a5a2ff2e8>"
      ]
     },
     "execution_count": 13,
     "metadata": {},
     "output_type": "execute_result"
    }
   ],
   "source": [
    "venues_map1 = folium.Map(location=[latitude, longitude], zoom_start=8) # generate map centred around City\n",
    "\n",
    "\n",
    "# add Ecco as a red circle mark\n",
    "folium.features.CircleMarker(\n",
    "    [latitude, longitude],\n",
    "    radius=10,\n",
    "    popup='California',\n",
    "    fill=True,\n",
    "    color='red',\n",
    "    fill_color='red',\n",
    "    fill_opacity=0.6\n",
    "    ).add_to(venues_map1)\n",
    "\n",
    "\n",
    "# add popular spots to the map as blue circle markers\n",
    "for lat, lng,city,categories in zip(df3.lat, df3.lng,df3.city,df3.categories):\n",
    "    label = '{}, {}'.format(city, categories)\n",
    "    label = folium.Popup(label, parse_html=True)\n",
    "    folium.features.CircleMarker(\n",
    "        [lat, lng],\n",
    "        radius=5,\n",
    "        popup=label,\n",
    "        fill=True,\n",
    "        color='blue',\n",
    "        fill_color='blue',\n",
    "        fill_opacity=0.6,\n",
    "        parse_html=False).add_to(venues_map1)\n",
    "\n",
    "# display map\n",
    "venues_map1"
   ]
  },
  {
   "cell_type": "code",
   "execution_count": 14,
   "metadata": {},
   "outputs": [
    {
     "data": {
      "text/html": [
       "<div>\n",
       "<style scoped>\n",
       "    .dataframe tbody tr th:only-of-type {\n",
       "        vertical-align: middle;\n",
       "    }\n",
       "\n",
       "    .dataframe tbody tr th {\n",
       "        vertical-align: top;\n",
       "    }\n",
       "\n",
       "    .dataframe thead th {\n",
       "        text-align: right;\n",
       "    }\n",
       "</style>\n",
       "<table border=\"1\" class=\"dataframe\">\n",
       "  <thead>\n",
       "    <tr style=\"text-align: right;\">\n",
       "      <th></th>\n",
       "      <th>city</th>\n",
       "      <th>name</th>\n",
       "      <th>categories</th>\n",
       "      <th>lat</th>\n",
       "      <th>lng</th>\n",
       "    </tr>\n",
       "  </thead>\n",
       "  <tbody>\n",
       "    <tr>\n",
       "      <td>0</td>\n",
       "      <td>Sequoia</td>\n",
       "      <td>General Sherman Tree</td>\n",
       "      <td>Tree</td>\n",
       "      <td>36.581690</td>\n",
       "      <td>-118.751456</td>\n",
       "    </tr>\n",
       "    <tr>\n",
       "      <td>1</td>\n",
       "      <td>Sierra</td>\n",
       "      <td>Kings Canyon National Park</td>\n",
       "      <td>National Park</td>\n",
       "      <td>36.740316</td>\n",
       "      <td>-118.963127</td>\n",
       "    </tr>\n",
       "    <tr>\n",
       "      <td>2</td>\n",
       "      <td>Hume</td>\n",
       "      <td>General Grant Tree</td>\n",
       "      <td>Tree</td>\n",
       "      <td>36.748025</td>\n",
       "      <td>-118.971573</td>\n",
       "    </tr>\n",
       "    <tr>\n",
       "      <td>3</td>\n",
       "      <td>Sequoia National Park</td>\n",
       "      <td>Kings Canyon Outlook</td>\n",
       "      <td>Scenic Lookout</td>\n",
       "      <td>36.719582</td>\n",
       "      <td>-118.897462</td>\n",
       "    </tr>\n",
       "    <tr>\n",
       "      <td>4</td>\n",
       "      <td>NaN</td>\n",
       "      <td>Moro Rock</td>\n",
       "      <td>Mountain</td>\n",
       "      <td>36.544133</td>\n",
       "      <td>-118.765223</td>\n",
       "    </tr>\n",
       "    <tr>\n",
       "      <td>...</td>\n",
       "      <td>...</td>\n",
       "      <td>...</td>\n",
       "      <td>...</td>\n",
       "      <td>...</td>\n",
       "      <td>...</td>\n",
       "    </tr>\n",
       "    <tr>\n",
       "      <td>95</td>\n",
       "      <td>Fresno</td>\n",
       "      <td>Save Mart Center</td>\n",
       "      <td>College Basketball Court</td>\n",
       "      <td>36.809800</td>\n",
       "      <td>-119.738573</td>\n",
       "    </tr>\n",
       "    <tr>\n",
       "      <td>96</td>\n",
       "      <td>Fresno</td>\n",
       "      <td>Chick-fil-A</td>\n",
       "      <td>Fast Food Restaurant</td>\n",
       "      <td>36.808194</td>\n",
       "      <td>-119.773622</td>\n",
       "    </tr>\n",
       "    <tr>\n",
       "      <td>97</td>\n",
       "      <td>Fresno</td>\n",
       "      <td>Whole Foods Market</td>\n",
       "      <td>Grocery Store</td>\n",
       "      <td>36.809290</td>\n",
       "      <td>-119.805587</td>\n",
       "    </tr>\n",
       "    <tr>\n",
       "      <td>98</td>\n",
       "      <td>Fresno</td>\n",
       "      <td>Mediterranean Grill</td>\n",
       "      <td>Mediterranean Restaurant</td>\n",
       "      <td>36.742080</td>\n",
       "      <td>-119.779576</td>\n",
       "    </tr>\n",
       "    <tr>\n",
       "      <td>99</td>\n",
       "      <td>Fresno</td>\n",
       "      <td>Chosen Frozen Yogurt</td>\n",
       "      <td>Frozen Yogurt Shop</td>\n",
       "      <td>36.866436</td>\n",
       "      <td>-119.740322</td>\n",
       "    </tr>\n",
       "  </tbody>\n",
       "</table>\n",
       "<p>100 rows × 5 columns</p>\n",
       "</div>"
      ],
      "text/plain": [
       "                     city                        name  \\\n",
       "0                 Sequoia        General Sherman Tree   \n",
       "1                  Sierra  Kings Canyon National Park   \n",
       "2                    Hume          General Grant Tree   \n",
       "3   Sequoia National Park        Kings Canyon Outlook   \n",
       "4                     NaN                   Moro Rock   \n",
       "..                    ...                         ...   \n",
       "95                 Fresno            Save Mart Center   \n",
       "96                 Fresno                 Chick-fil-A   \n",
       "97                 Fresno          Whole Foods Market   \n",
       "98                 Fresno         Mediterranean Grill   \n",
       "99                 Fresno        Chosen Frozen Yogurt   \n",
       "\n",
       "                  categories        lat         lng  \n",
       "0                       Tree  36.581690 -118.751456  \n",
       "1              National Park  36.740316 -118.963127  \n",
       "2                       Tree  36.748025 -118.971573  \n",
       "3             Scenic Lookout  36.719582 -118.897462  \n",
       "4                   Mountain  36.544133 -118.765223  \n",
       "..                       ...        ...         ...  \n",
       "95  College Basketball Court  36.809800 -119.738573  \n",
       "96      Fast Food Restaurant  36.808194 -119.773622  \n",
       "97             Grocery Store  36.809290 -119.805587  \n",
       "98  Mediterranean Restaurant  36.742080 -119.779576  \n",
       "99        Frozen Yogurt Shop  36.866436 -119.740322  \n",
       "\n",
       "[100 rows x 5 columns]"
      ]
     },
     "execution_count": 14,
     "metadata": {},
     "output_type": "execute_result"
    }
   ],
   "source": [
    "df3"
   ]
  },
  {
   "cell_type": "markdown",
   "metadata": {},
   "source": [
    "Cleaning dataframe to apply kmeans clustering"
   ]
  },
  {
   "cell_type": "code",
   "execution_count": 15,
   "metadata": {},
   "outputs": [
    {
     "data": {
      "text/html": [
       "<div>\n",
       "<style scoped>\n",
       "    .dataframe tbody tr th:only-of-type {\n",
       "        vertical-align: middle;\n",
       "    }\n",
       "\n",
       "    .dataframe tbody tr th {\n",
       "        vertical-align: top;\n",
       "    }\n",
       "\n",
       "    .dataframe thead th {\n",
       "        text-align: right;\n",
       "    }\n",
       "</style>\n",
       "<table border=\"1\" class=\"dataframe\">\n",
       "  <thead>\n",
       "    <tr style=\"text-align: right;\">\n",
       "      <th></th>\n",
       "      <th>lat</th>\n",
       "      <th>lng</th>\n",
       "    </tr>\n",
       "  </thead>\n",
       "  <tbody>\n",
       "    <tr>\n",
       "      <td>0</td>\n",
       "      <td>36.581690</td>\n",
       "      <td>-118.751456</td>\n",
       "    </tr>\n",
       "    <tr>\n",
       "      <td>1</td>\n",
       "      <td>36.740316</td>\n",
       "      <td>-118.963127</td>\n",
       "    </tr>\n",
       "    <tr>\n",
       "      <td>2</td>\n",
       "      <td>36.748025</td>\n",
       "      <td>-118.971573</td>\n",
       "    </tr>\n",
       "    <tr>\n",
       "      <td>3</td>\n",
       "      <td>36.719582</td>\n",
       "      <td>-118.897462</td>\n",
       "    </tr>\n",
       "    <tr>\n",
       "      <td>4</td>\n",
       "      <td>36.544133</td>\n",
       "      <td>-118.765223</td>\n",
       "    </tr>\n",
       "  </tbody>\n",
       "</table>\n",
       "</div>"
      ],
      "text/plain": [
       "         lat         lng\n",
       "0  36.581690 -118.751456\n",
       "1  36.740316 -118.963127\n",
       "2  36.748025 -118.971573\n",
       "3  36.719582 -118.897462\n",
       "4  36.544133 -118.765223"
      ]
     },
     "execution_count": 15,
     "metadata": {},
     "output_type": "execute_result"
    }
   ],
   "source": [
    "df4=df3.drop(['city','name','categories'], axis=1)\n",
    "df4.head()"
   ]
  },
  {
   "cell_type": "markdown",
   "metadata": {},
   "source": [
    "**Apply k-means clustering to group the venues**"
   ]
  },
  {
   "cell_type": "code",
   "execution_count": 16,
   "metadata": {},
   "outputs": [
    {
     "data": {
      "text/plain": [
       "array([3, 3, 3, 3, 3, 3, 3, 3, 3, 1], dtype=int32)"
      ]
     },
     "execution_count": 16,
     "metadata": {},
     "output_type": "execute_result"
    }
   ],
   "source": [
    "kclusters = 5\n",
    "kmeans = KMeans(init=\"k-means++\", n_clusters=5, n_init=12).fit(df4)\n",
    "#check cluster labels generated for each row in the dataframe\n",
    "kmeans.labels_[0:10]"
   ]
  },
  {
   "cell_type": "code",
   "execution_count": 17,
   "metadata": {},
   "outputs": [
    {
     "data": {
      "text/plain": [
       "array([[  36.32450014, -119.32184898],\n",
       "       [  36.80818685, -119.73864269],\n",
       "       [  37.32883618, -118.37864014],\n",
       "       [  36.59488297, -118.84381387],\n",
       "       [  36.63688628, -118.08870948]])"
      ]
     },
     "execution_count": 17,
     "metadata": {},
     "output_type": "execute_result"
    }
   ],
   "source": [
    "k_means_cluster_centers = kmeans.cluster_centers_\n",
    "k_means_cluster_centers"
   ]
  },
  {
   "cell_type": "markdown",
   "metadata": {},
   "source": [
    "Add clustering labels to the cleaned dataframe"
   ]
  },
  {
   "cell_type": "code",
   "execution_count": 18,
   "metadata": {},
   "outputs": [
    {
     "data": {
      "text/html": [
       "<div>\n",
       "<style scoped>\n",
       "    .dataframe tbody tr th:only-of-type {\n",
       "        vertical-align: middle;\n",
       "    }\n",
       "\n",
       "    .dataframe tbody tr th {\n",
       "        vertical-align: top;\n",
       "    }\n",
       "\n",
       "    .dataframe thead th {\n",
       "        text-align: right;\n",
       "    }\n",
       "</style>\n",
       "<table border=\"1\" class=\"dataframe\">\n",
       "  <thead>\n",
       "    <tr style=\"text-align: right;\">\n",
       "      <th></th>\n",
       "      <th>Cluster labels</th>\n",
       "      <th>city</th>\n",
       "      <th>name</th>\n",
       "      <th>categories</th>\n",
       "      <th>lat</th>\n",
       "      <th>lng</th>\n",
       "    </tr>\n",
       "  </thead>\n",
       "  <tbody>\n",
       "    <tr>\n",
       "      <td>0</td>\n",
       "      <td>3</td>\n",
       "      <td>Sequoia</td>\n",
       "      <td>General Sherman Tree</td>\n",
       "      <td>Tree</td>\n",
       "      <td>36.581690</td>\n",
       "      <td>-118.751456</td>\n",
       "    </tr>\n",
       "    <tr>\n",
       "      <td>1</td>\n",
       "      <td>3</td>\n",
       "      <td>Sierra</td>\n",
       "      <td>Kings Canyon National Park</td>\n",
       "      <td>National Park</td>\n",
       "      <td>36.740316</td>\n",
       "      <td>-118.963127</td>\n",
       "    </tr>\n",
       "    <tr>\n",
       "      <td>2</td>\n",
       "      <td>3</td>\n",
       "      <td>Hume</td>\n",
       "      <td>General Grant Tree</td>\n",
       "      <td>Tree</td>\n",
       "      <td>36.748025</td>\n",
       "      <td>-118.971573</td>\n",
       "    </tr>\n",
       "    <tr>\n",
       "      <td>3</td>\n",
       "      <td>3</td>\n",
       "      <td>Sequoia National Park</td>\n",
       "      <td>Kings Canyon Outlook</td>\n",
       "      <td>Scenic Lookout</td>\n",
       "      <td>36.719582</td>\n",
       "      <td>-118.897462</td>\n",
       "    </tr>\n",
       "    <tr>\n",
       "      <td>4</td>\n",
       "      <td>3</td>\n",
       "      <td>NaN</td>\n",
       "      <td>Moro Rock</td>\n",
       "      <td>Mountain</td>\n",
       "      <td>36.544133</td>\n",
       "      <td>-118.765223</td>\n",
       "    </tr>\n",
       "  </tbody>\n",
       "</table>\n",
       "</div>"
      ],
      "text/plain": [
       "   Cluster labels                   city                        name  \\\n",
       "0               3                Sequoia        General Sherman Tree   \n",
       "1               3                 Sierra  Kings Canyon National Park   \n",
       "2               3                   Hume          General Grant Tree   \n",
       "3               3  Sequoia National Park        Kings Canyon Outlook   \n",
       "4               3                    NaN                   Moro Rock   \n",
       "\n",
       "       categories        lat         lng  \n",
       "0            Tree  36.581690 -118.751456  \n",
       "1   National Park  36.740316 -118.963127  \n",
       "2            Tree  36.748025 -118.971573  \n",
       "3  Scenic Lookout  36.719582 -118.897462  \n",
       "4        Mountain  36.544133 -118.765223  "
      ]
     },
     "execution_count": 18,
     "metadata": {},
     "output_type": "execute_result"
    }
   ],
   "source": [
    "df5=df3\n",
    "df5.insert(0,\"Cluster labels\",kmeans.labels_)\n",
    "df5.head()"
   ]
  },
  {
   "cell_type": "code",
   "execution_count": 19,
   "metadata": {},
   "outputs": [],
   "source": [
    "dataframe_cluster0=df5.loc[df5['Cluster labels']==0]\n",
    "dataframe_cluster1=df5.loc[df5['Cluster labels']==1]\n",
    "dataframe_cluster2=df5.loc[df5['Cluster labels']==2]\n",
    "dataframe_cluster3=df5.loc[df5['Cluster labels']==3]\n",
    "dataframe_cluster4=df5.loc[df5['Cluster labels']==4]"
   ]
  },
  {
   "cell_type": "code",
   "execution_count": 21,
   "metadata": {},
   "outputs": [
    {
     "data": {
      "text/html": [
       "<div>\n",
       "<style scoped>\n",
       "    .dataframe tbody tr th:only-of-type {\n",
       "        vertical-align: middle;\n",
       "    }\n",
       "\n",
       "    .dataframe tbody tr th {\n",
       "        vertical-align: top;\n",
       "    }\n",
       "\n",
       "    .dataframe thead th {\n",
       "        text-align: right;\n",
       "    }\n",
       "</style>\n",
       "<table border=\"1\" class=\"dataframe\">\n",
       "  <thead>\n",
       "    <tr style=\"text-align: right;\">\n",
       "      <th></th>\n",
       "      <th>Cluster labels</th>\n",
       "      <th>city</th>\n",
       "      <th>name</th>\n",
       "      <th>categories</th>\n",
       "      <th>lat</th>\n",
       "      <th>lng</th>\n",
       "    </tr>\n",
       "  </thead>\n",
       "  <tbody>\n",
       "    <tr>\n",
       "      <td>10</td>\n",
       "      <td>0</td>\n",
       "      <td>Visalia</td>\n",
       "      <td>In-N-Out Burger</td>\n",
       "      <td>Burger Joint</td>\n",
       "      <td>36.313395</td>\n",
       "      <td>-119.314239</td>\n",
       "    </tr>\n",
       "    <tr>\n",
       "      <td>11</td>\n",
       "      <td>0</td>\n",
       "      <td>Visalia</td>\n",
       "      <td>Pita Kabob Gastropub</td>\n",
       "      <td>Gastropub</td>\n",
       "      <td>36.331853</td>\n",
       "      <td>-119.292628</td>\n",
       "    </tr>\n",
       "    <tr>\n",
       "      <td>14</td>\n",
       "      <td>0</td>\n",
       "      <td>Visalia</td>\n",
       "      <td>Vintage Press Restaurante</td>\n",
       "      <td>American Restaurant</td>\n",
       "      <td>36.331414</td>\n",
       "      <td>-119.297473</td>\n",
       "    </tr>\n",
       "    <tr>\n",
       "      <td>16</td>\n",
       "      <td>0</td>\n",
       "      <td>Visalia</td>\n",
       "      <td>BevMo!</td>\n",
       "      <td>Liquor Store</td>\n",
       "      <td>36.296188</td>\n",
       "      <td>-119.313095</td>\n",
       "    </tr>\n",
       "    <tr>\n",
       "      <td>17</td>\n",
       "      <td>0</td>\n",
       "      <td>Visalia</td>\n",
       "      <td>Gozen</td>\n",
       "      <td>Sushi Restaurant</td>\n",
       "      <td>36.297966</td>\n",
       "      <td>-119.303238</td>\n",
       "    </tr>\n",
       "  </tbody>\n",
       "</table>\n",
       "</div>"
      ],
      "text/plain": [
       "    Cluster labels     city                       name           categories  \\\n",
       "10               0  Visalia            In-N-Out Burger         Burger Joint   \n",
       "11               0  Visalia       Pita Kabob Gastropub            Gastropub   \n",
       "14               0  Visalia  Vintage Press Restaurante  American Restaurant   \n",
       "16               0  Visalia                     BevMo!         Liquor Store   \n",
       "17               0  Visalia                      Gozen     Sushi Restaurant   \n",
       "\n",
       "          lat         lng  \n",
       "10  36.313395 -119.314239  \n",
       "11  36.331853 -119.292628  \n",
       "14  36.331414 -119.297473  \n",
       "16  36.296188 -119.313095  \n",
       "17  36.297966 -119.303238  "
      ]
     },
     "execution_count": 21,
     "metadata": {},
     "output_type": "execute_result"
    }
   ],
   "source": [
    "dataframe_cluster0.head()\n"
   ]
  },
  {
   "cell_type": "code",
   "execution_count": 23,
   "metadata": {},
   "outputs": [
    {
     "name": "stdout",
     "output_type": "stream",
     "text": [
      "Cluster 0 (22, 6)\n",
      "Cluster 1 (61, 6)\n",
      "Cluster 2 (5, 6)\n",
      "Cluster 3 (9, 6)\n",
      "Cluster 4 (3, 6)\n"
     ]
    }
   ],
   "source": [
    "print('Cluster 0',dataframe_cluster0.shape)\n",
    "print('Cluster 1',dataframe_cluster1.shape)\n",
    "print('Cluster 2',dataframe_cluster2.shape)\n",
    "print('Cluster 3',dataframe_cluster3.shape)\n",
    "print('Cluster 4',dataframe_cluster4.shape)"
   ]
  },
  {
   "cell_type": "code",
   "execution_count": 24,
   "metadata": {},
   "outputs": [
    {
     "data": {
      "text/html": [
       "<div>\n",
       "<style scoped>\n",
       "    .dataframe tbody tr th:only-of-type {\n",
       "        vertical-align: middle;\n",
       "    }\n",
       "\n",
       "    .dataframe tbody tr th {\n",
       "        vertical-align: top;\n",
       "    }\n",
       "\n",
       "    .dataframe thead th {\n",
       "        text-align: right;\n",
       "    }\n",
       "</style>\n",
       "<table border=\"1\" class=\"dataframe\">\n",
       "  <thead>\n",
       "    <tr style=\"text-align: right;\">\n",
       "      <th></th>\n",
       "      <th>Cluster labels</th>\n",
       "      <th>city</th>\n",
       "      <th>name</th>\n",
       "      <th>categories</th>\n",
       "      <th>lat</th>\n",
       "      <th>lng</th>\n",
       "    </tr>\n",
       "  </thead>\n",
       "  <tbody>\n",
       "    <tr>\n",
       "      <td>9</td>\n",
       "      <td>1</td>\n",
       "      <td>Sanger</td>\n",
       "      <td>School House Restaurant &amp; Tavern</td>\n",
       "      <td>New American Restaurant</td>\n",
       "      <td>36.719783</td>\n",
       "      <td>-119.448029</td>\n",
       "    </tr>\n",
       "    <tr>\n",
       "      <td>34</td>\n",
       "      <td>1</td>\n",
       "      <td>Selma</td>\n",
       "      <td>Sal's Mexican Restaurant</td>\n",
       "      <td>Mexican Restaurant</td>\n",
       "      <td>36.559580</td>\n",
       "      <td>-119.615024</td>\n",
       "    </tr>\n",
       "    <tr>\n",
       "      <td>36</td>\n",
       "      <td>1</td>\n",
       "      <td>Clovis</td>\n",
       "      <td>Mickey's Frozen Yogurt</td>\n",
       "      <td>Frozen Yogurt Shop</td>\n",
       "      <td>36.809055</td>\n",
       "      <td>-119.673506</td>\n",
       "    </tr>\n",
       "    <tr>\n",
       "      <td>39</td>\n",
       "      <td>1</td>\n",
       "      <td>Clovis</td>\n",
       "      <td>House of Juju</td>\n",
       "      <td>American Restaurant</td>\n",
       "      <td>36.824326</td>\n",
       "      <td>-119.701708</td>\n",
       "    </tr>\n",
       "    <tr>\n",
       "      <td>42</td>\n",
       "      <td>1</td>\n",
       "      <td>Fresno</td>\n",
       "      <td>Dog House Grill</td>\n",
       "      <td>Sports Bar</td>\n",
       "      <td>36.808232</td>\n",
       "      <td>-119.736589</td>\n",
       "    </tr>\n",
       "  </tbody>\n",
       "</table>\n",
       "</div>"
      ],
      "text/plain": [
       "    Cluster labels    city                              name  \\\n",
       "9                1  Sanger  School House Restaurant & Tavern   \n",
       "34               1   Selma          Sal's Mexican Restaurant   \n",
       "36               1  Clovis            Mickey's Frozen Yogurt   \n",
       "39               1  Clovis                     House of Juju   \n",
       "42               1  Fresno                   Dog House Grill   \n",
       "\n",
       "                 categories        lat         lng  \n",
       "9   New American Restaurant  36.719783 -119.448029  \n",
       "34       Mexican Restaurant  36.559580 -119.615024  \n",
       "36       Frozen Yogurt Shop  36.809055 -119.673506  \n",
       "39      American Restaurant  36.824326 -119.701708  \n",
       "42               Sports Bar  36.808232 -119.736589  "
      ]
     },
     "execution_count": 24,
     "metadata": {},
     "output_type": "execute_result"
    }
   ],
   "source": [
    "dataframe_cluster1.head()"
   ]
  },
  {
   "cell_type": "code",
   "execution_count": 25,
   "metadata": {},
   "outputs": [
    {
     "data": {
      "text/html": [
       "<div>\n",
       "<style scoped>\n",
       "    .dataframe tbody tr th:only-of-type {\n",
       "        vertical-align: middle;\n",
       "    }\n",
       "\n",
       "    .dataframe tbody tr th {\n",
       "        vertical-align: top;\n",
       "    }\n",
       "\n",
       "    .dataframe thead th {\n",
       "        text-align: right;\n",
       "    }\n",
       "</style>\n",
       "<table border=\"1\" class=\"dataframe\">\n",
       "  <thead>\n",
       "    <tr style=\"text-align: right;\">\n",
       "      <th></th>\n",
       "      <th>Cluster labels</th>\n",
       "      <th>city</th>\n",
       "      <th>name</th>\n",
       "      <th>categories</th>\n",
       "      <th>lat</th>\n",
       "      <th>lng</th>\n",
       "    </tr>\n",
       "  </thead>\n",
       "  <tbody>\n",
       "    <tr>\n",
       "      <td>15</td>\n",
       "      <td>2</td>\n",
       "      <td>Big Pine</td>\n",
       "      <td>Copper Top BBQ</td>\n",
       "      <td>BBQ Joint</td>\n",
       "      <td>37.168273</td>\n",
       "      <td>-118.289309</td>\n",
       "    </tr>\n",
       "    <tr>\n",
       "      <td>30</td>\n",
       "      <td>2</td>\n",
       "      <td>Bishop</td>\n",
       "      <td>Erick Schat’s Bakkery</td>\n",
       "      <td>Bakery</td>\n",
       "      <td>37.367858</td>\n",
       "      <td>-118.395590</td>\n",
       "    </tr>\n",
       "    <tr>\n",
       "      <td>38</td>\n",
       "      <td>2</td>\n",
       "      <td>Bishop</td>\n",
       "      <td>Mahogany Smoked Meats</td>\n",
       "      <td>Deli / Bodega</td>\n",
       "      <td>37.376012</td>\n",
       "      <td>-118.417570</td>\n",
       "    </tr>\n",
       "    <tr>\n",
       "      <td>40</td>\n",
       "      <td>2</td>\n",
       "      <td>Bishop</td>\n",
       "      <td>Holy Smoke BBQ</td>\n",
       "      <td>BBQ Joint</td>\n",
       "      <td>37.368106</td>\n",
       "      <td>-118.395267</td>\n",
       "    </tr>\n",
       "    <tr>\n",
       "      <td>59</td>\n",
       "      <td>2</td>\n",
       "      <td>Bishop</td>\n",
       "      <td>The Looney Bean</td>\n",
       "      <td>Coffee Shop</td>\n",
       "      <td>37.363933</td>\n",
       "      <td>-118.395465</td>\n",
       "    </tr>\n",
       "  </tbody>\n",
       "</table>\n",
       "</div>"
      ],
      "text/plain": [
       "    Cluster labels      city                   name     categories        lat  \\\n",
       "15               2  Big Pine         Copper Top BBQ      BBQ Joint  37.168273   \n",
       "30               2    Bishop  Erick Schat’s Bakkery         Bakery  37.367858   \n",
       "38               2    Bishop  Mahogany Smoked Meats  Deli / Bodega  37.376012   \n",
       "40               2    Bishop         Holy Smoke BBQ      BBQ Joint  37.368106   \n",
       "59               2    Bishop        The Looney Bean    Coffee Shop  37.363933   \n",
       "\n",
       "           lng  \n",
       "15 -118.289309  \n",
       "30 -118.395590  \n",
       "38 -118.417570  \n",
       "40 -118.395267  \n",
       "59 -118.395465  "
      ]
     },
     "execution_count": 25,
     "metadata": {},
     "output_type": "execute_result"
    }
   ],
   "source": [
    "dataframe_cluster2.head()"
   ]
  },
  {
   "cell_type": "code",
   "execution_count": 26,
   "metadata": {},
   "outputs": [
    {
     "data": {
      "text/html": [
       "<div>\n",
       "<style scoped>\n",
       "    .dataframe tbody tr th:only-of-type {\n",
       "        vertical-align: middle;\n",
       "    }\n",
       "\n",
       "    .dataframe tbody tr th {\n",
       "        vertical-align: top;\n",
       "    }\n",
       "\n",
       "    .dataframe thead th {\n",
       "        text-align: right;\n",
       "    }\n",
       "</style>\n",
       "<table border=\"1\" class=\"dataframe\">\n",
       "  <thead>\n",
       "    <tr style=\"text-align: right;\">\n",
       "      <th></th>\n",
       "      <th>Cluster labels</th>\n",
       "      <th>city</th>\n",
       "      <th>name</th>\n",
       "      <th>categories</th>\n",
       "      <th>lat</th>\n",
       "      <th>lng</th>\n",
       "    </tr>\n",
       "  </thead>\n",
       "  <tbody>\n",
       "    <tr>\n",
       "      <td>0</td>\n",
       "      <td>3</td>\n",
       "      <td>Sequoia</td>\n",
       "      <td>General Sherman Tree</td>\n",
       "      <td>Tree</td>\n",
       "      <td>36.581690</td>\n",
       "      <td>-118.751456</td>\n",
       "    </tr>\n",
       "    <tr>\n",
       "      <td>1</td>\n",
       "      <td>3</td>\n",
       "      <td>Sierra</td>\n",
       "      <td>Kings Canyon National Park</td>\n",
       "      <td>National Park</td>\n",
       "      <td>36.740316</td>\n",
       "      <td>-118.963127</td>\n",
       "    </tr>\n",
       "    <tr>\n",
       "      <td>2</td>\n",
       "      <td>3</td>\n",
       "      <td>Hume</td>\n",
       "      <td>General Grant Tree</td>\n",
       "      <td>Tree</td>\n",
       "      <td>36.748025</td>\n",
       "      <td>-118.971573</td>\n",
       "    </tr>\n",
       "    <tr>\n",
       "      <td>3</td>\n",
       "      <td>3</td>\n",
       "      <td>Sequoia National Park</td>\n",
       "      <td>Kings Canyon Outlook</td>\n",
       "      <td>Scenic Lookout</td>\n",
       "      <td>36.719582</td>\n",
       "      <td>-118.897462</td>\n",
       "    </tr>\n",
       "    <tr>\n",
       "      <td>4</td>\n",
       "      <td>3</td>\n",
       "      <td>NaN</td>\n",
       "      <td>Moro Rock</td>\n",
       "      <td>Mountain</td>\n",
       "      <td>36.544133</td>\n",
       "      <td>-118.765223</td>\n",
       "    </tr>\n",
       "  </tbody>\n",
       "</table>\n",
       "</div>"
      ],
      "text/plain": [
       "   Cluster labels                   city                        name  \\\n",
       "0               3                Sequoia        General Sherman Tree   \n",
       "1               3                 Sierra  Kings Canyon National Park   \n",
       "2               3                   Hume          General Grant Tree   \n",
       "3               3  Sequoia National Park        Kings Canyon Outlook   \n",
       "4               3                    NaN                   Moro Rock   \n",
       "\n",
       "       categories        lat         lng  \n",
       "0            Tree  36.581690 -118.751456  \n",
       "1   National Park  36.740316 -118.963127  \n",
       "2            Tree  36.748025 -118.971573  \n",
       "3  Scenic Lookout  36.719582 -118.897462  \n",
       "4        Mountain  36.544133 -118.765223  "
      ]
     },
     "execution_count": 26,
     "metadata": {},
     "output_type": "execute_result"
    }
   ],
   "source": [
    "dataframe_cluster3.head()"
   ]
  },
  {
   "cell_type": "code",
   "execution_count": 27,
   "metadata": {},
   "outputs": [
    {
     "data": {
      "text/html": [
       "<div>\n",
       "<style scoped>\n",
       "    .dataframe tbody tr th:only-of-type {\n",
       "        vertical-align: middle;\n",
       "    }\n",
       "\n",
       "    .dataframe tbody tr th {\n",
       "        vertical-align: top;\n",
       "    }\n",
       "\n",
       "    .dataframe thead th {\n",
       "        text-align: right;\n",
       "    }\n",
       "</style>\n",
       "<table border=\"1\" class=\"dataframe\">\n",
       "  <thead>\n",
       "    <tr style=\"text-align: right;\">\n",
       "      <th></th>\n",
       "      <th>Cluster labels</th>\n",
       "      <th>city</th>\n",
       "      <th>name</th>\n",
       "      <th>categories</th>\n",
       "      <th>lat</th>\n",
       "      <th>lng</th>\n",
       "    </tr>\n",
       "  </thead>\n",
       "  <tbody>\n",
       "    <tr>\n",
       "      <td>12</td>\n",
       "      <td>4</td>\n",
       "      <td>Independence</td>\n",
       "      <td>Manzanar National Historic Site</td>\n",
       "      <td>Historic Site</td>\n",
       "      <td>36.727696</td>\n",
       "      <td>-118.147820</td>\n",
       "    </tr>\n",
       "    <tr>\n",
       "      <td>13</td>\n",
       "      <td>4</td>\n",
       "      <td>Lone Pine</td>\n",
       "      <td>Seasons</td>\n",
       "      <td>American Restaurant</td>\n",
       "      <td>36.604812</td>\n",
       "      <td>-118.062769</td>\n",
       "    </tr>\n",
       "    <tr>\n",
       "      <td>29</td>\n",
       "      <td>4</td>\n",
       "      <td>Lone Pine</td>\n",
       "      <td>Eastern Sierra InterAgency Visitor Center</td>\n",
       "      <td>Tourist Information Center</td>\n",
       "      <td>36.578151</td>\n",
       "      <td>-118.055540</td>\n",
       "    </tr>\n",
       "  </tbody>\n",
       "</table>\n",
       "</div>"
      ],
      "text/plain": [
       "    Cluster labels          city                                       name  \\\n",
       "12               4  Independence            Manzanar National Historic Site   \n",
       "13               4     Lone Pine                                    Seasons   \n",
       "29               4     Lone Pine  Eastern Sierra InterAgency Visitor Center   \n",
       "\n",
       "                    categories        lat         lng  \n",
       "12               Historic Site  36.727696 -118.147820  \n",
       "13         American Restaurant  36.604812 -118.062769  \n",
       "29  Tourist Information Center  36.578151 -118.055540  "
      ]
     },
     "execution_count": 27,
     "metadata": {},
     "output_type": "execute_result"
    }
   ],
   "source": [
    "dataframe_cluster4.head()"
   ]
  },
  {
   "cell_type": "markdown",
   "metadata": {},
   "source": [
    "Identify the unique categories in the Cluster dataframe."
   ]
  },
  {
   "cell_type": "code",
   "execution_count": 28,
   "metadata": {},
   "outputs": [
    {
     "data": {
      "text/plain": [
       "array(['Burger Joint', 'Gastropub', 'American Restaurant', 'Liquor Store',\n",
       "       'Sushi Restaurant', 'Warehouse Store', 'Factory',\n",
       "       'Japanese Restaurant', 'Donut Shop', 'Coffee Shop', 'Pizza Place',\n",
       "       'Mexican Restaurant', 'Movie Theater', 'Pet Store',\n",
       "       'Italian Restaurant'], dtype=object)"
      ]
     },
     "execution_count": 28,
     "metadata": {},
     "output_type": "execute_result"
    }
   ],
   "source": [
    "dataframe_cluster0.categories.unique()"
   ]
  },
  {
   "cell_type": "code",
   "execution_count": 29,
   "metadata": {},
   "outputs": [
    {
     "data": {
      "text/plain": [
       "array(['New American Restaurant', 'Mexican Restaurant',\n",
       "       'Frozen Yogurt Shop', 'American Restaurant', 'Sports Bar',\n",
       "       'Grocery Store', 'Pizza Place', 'Sushi Restaurant',\n",
       "       'Breakfast Spot', 'Burger Joint', 'Ice Cream Shop', 'Bakery',\n",
       "       'Coffee Shop', 'Park', 'Water Park', 'Gym', 'Theater',\n",
       "       'Steakhouse', 'Market', 'Brewery', 'Multiplex',\n",
       "       'Mediterranean Restaurant', 'Garden Center', 'Zoo Exhibit', 'Bar',\n",
       "       'Indian Restaurant', 'Fast Food Restaurant', 'Pet Store',\n",
       "       'Gastropub', 'Shopping Mall', 'Arts & Crafts Store', 'Lounge',\n",
       "       'Italian Restaurant', 'Zoo', 'Seafood Restaurant', 'Diner',\n",
       "       'Sandwich Place', 'College Basketball Court'], dtype=object)"
      ]
     },
     "execution_count": 29,
     "metadata": {},
     "output_type": "execute_result"
    }
   ],
   "source": [
    "dataframe_cluster1.categories.unique()"
   ]
  },
  {
   "cell_type": "code",
   "execution_count": 30,
   "metadata": {},
   "outputs": [
    {
     "data": {
      "text/plain": [
       "array(['BBQ Joint', 'Bakery', 'Deli / Bodega', 'Coffee Shop'],\n",
       "      dtype=object)"
      ]
     },
     "execution_count": 30,
     "metadata": {},
     "output_type": "execute_result"
    }
   ],
   "source": [
    "dataframe_cluster2.categories.unique()"
   ]
  },
  {
   "cell_type": "code",
   "execution_count": 31,
   "metadata": {},
   "outputs": [
    {
     "data": {
      "text/plain": [
       "array(['Tree', 'National Park', 'Scenic Lookout', 'Mountain',\n",
       "       'Tourist Information Center'], dtype=object)"
      ]
     },
     "execution_count": 31,
     "metadata": {},
     "output_type": "execute_result"
    }
   ],
   "source": [
    "dataframe_cluster3.categories.unique()"
   ]
  },
  {
   "cell_type": "code",
   "execution_count": 32,
   "metadata": {},
   "outputs": [
    {
     "data": {
      "text/plain": [
       "array(['Historic Site', 'American Restaurant',\n",
       "       'Tourist Information Center'], dtype=object)"
      ]
     },
     "execution_count": 32,
     "metadata": {},
     "output_type": "execute_result"
    }
   ],
   "source": [
    "dataframe_cluster4.categories.unique()"
   ]
  },
  {
   "cell_type": "markdown",
   "metadata": {},
   "source": [
    "**Generate map to visualize the Clusters**"
   ]
  },
  {
   "cell_type": "markdown",
   "metadata": {},
   "source": [
    "Centroids of cluster is displayed as a black circle mark. Spots in cluster 0 is displayed in blue. Spots in cluster 1 is displayed in red. Spots in cluster 2 is displayed in green.Spots in cluster 3 is displayed in yellow.Spots in cluster 4 is displayed in white."
   ]
  },
  {
   "cell_type": "code",
   "execution_count": 41,
   "metadata": {},
   "outputs": [
    {
     "data": {
      "text/html": [
       "<div style=\"width:100%;\"><div style=\"position:relative;width:100%;height:0;padding-bottom:60%;\"><iframe src=\"data:text/html;charset=utf-8;base64,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\" style=\"position:absolute;width:100%;height:100%;left:0;top:0;border:none !important;\" allowfullscreen webkitallowfullscreen mozallowfullscreen></iframe></div></div>"
      ],
      "text/plain": [
       "<folium.folium.Map at 0x7f3a53edd630>"
      ]
     },
     "execution_count": 41,
     "metadata": {},
     "output_type": "execute_result"
    }
   ],
   "source": [
    "california_map = folium.Map(location=[latitude, longitude], zoom_start=8) # generate map centred around City\n",
    "\n",
    "for lat, lng in (k_means_cluster_centers):\n",
    "# add centroids of cluster as a black circle mark\n",
    "    folium.CircleMarker(\n",
    "    [lat, lng],\n",
    "    radius=6,\n",
    "    popup='Cluster_Center',\n",
    "    fill=True,\n",
    "    color='black',\n",
    "    fill_color='black',\n",
    "    fill_opacity=0.6\n",
    "    ).add_to(california_map)\n",
    "\n",
    "\n",
    "# add spots in cluster 0 to the map as blue circle markers\n",
    "for lat, lng, city, categories in zip(dataframe_cluster0['lat'], dataframe_cluster0['lng'], \n",
    "                                           dataframe_cluster0['city'], dataframe_cluster0['categories']):\n",
    "    label = '{}, {}'.format(city, categories)\n",
    "    label = folium.Popup(label, parse_html=True)    \n",
    "    folium.CircleMarker(\n",
    "        [lat, lng],\n",
    "        radius=2,\n",
    "        popup=label,\n",
    "        fill=True,\n",
    "        color='blue',\n",
    "        fill_color='blue',\n",
    "        fill_opacity=0.7,\n",
    "        parse_html=False).add_to(california_map)\n",
    "\n",
    "# add spots in cluster 1 to the map as red circle markers\n",
    "for lat, lng, city, categories in zip(dataframe_cluster1['lat'], dataframe_cluster1['lng'], \n",
    "                                           dataframe_cluster1['city'], dataframe_cluster1['categories']):\n",
    "    label = '{}, {}'.format(city, categories)\n",
    "    label = folium.Popup(label, parse_html=True)    \n",
    "    folium.CircleMarker(\n",
    "        [lat, lng],\n",
    "        radius=2,\n",
    "        popup=label,\n",
    "        fill=True,\n",
    "        color='red',\n",
    "        fill_color='red',\n",
    "        fill_opacity=0.7,\n",
    "        parse_html=False).add_to(california_map)\n",
    "    \n",
    "# add spots in cluster 3 to the map as green circle markers\n",
    "for lat, lng, city, categories in zip(dataframe_cluster2['lat'], dataframe_cluster2['lng'], \n",
    "                                           dataframe_cluster2['city'], dataframe_cluster2['categories']):\n",
    "    label = '{}, {}'.format(city, categories)\n",
    "    label = folium.Popup(label, parse_html=True)    \n",
    "    folium.CircleMarker(\n",
    "        [lat, lng],\n",
    "        radius=2,\n",
    "        popup=label,\n",
    "        fill=True,\n",
    "        color='green',\n",
    "        fill_color='green',\n",
    "        fill_opacity=0.7,\n",
    "        parse_html=False).add_to(california_map) \n",
    "# add spots in cluster 3 to the map as yellow circle markers\n",
    "for lat, lng, city, categories in zip(dataframe_cluster3['lat'], dataframe_cluster3['lng'], \n",
    "                                           dataframe_cluster3['city'], dataframe_cluster3['categories']):\n",
    "    label = '{}, {}'.format(city, categories)\n",
    "    label = folium.Popup(label, parse_html=True)    \n",
    "    folium.CircleMarker(\n",
    "        [lat, lng],\n",
    "        radius=2,\n",
    "        popup=label,\n",
    "        fill=True,\n",
    "        color='yellow',\n",
    "        fill_color='yellow',\n",
    "        fill_opacity=0.7,\n",
    "        parse_html=False).add_to(california_map) \n",
    "# add spots in cluster 4 to the map as white circle markers\n",
    "for lat, lng, city, categories in zip(dataframe_cluster4['lat'], dataframe_cluster4['lng'], \n",
    "                                           dataframe_cluster4['city'], dataframe_cluster4['categories']):\n",
    "    label = '{}, {}'.format(city, categories)\n",
    "    label = folium.Popup(label, parse_html=True)    \n",
    "    folium.CircleMarker(\n",
    "        [lat, lng],\n",
    "        radius=2,\n",
    "        popup=label,\n",
    "        fill=True,\n",
    "        color='white',\n",
    "        fill_color='white',\n",
    "        fill_opacity=0.7,\n",
    "        parse_html=False).add_to(california_map)     \n",
    "# display map\n",
    "california_map"
   ]
  },
  {
   "cell_type": "markdown",
   "metadata": {},
   "source": [
    "**Conclusion**"
   ]
  },
  {
   "cell_type": "markdown",
   "metadata": {},
   "source": [
    "From the map and dataframe it is clear that the maximum number of restaurants,movie theatres,grocery shops,coffee shops,shopping malls etc are available in cluster1.One shifting to cluster1 can easily find a earn of living and spend life as other facilities are available. Cluster2 can be ignored as there are only three venues and they are bakery,BBQ and Coffee Shop. Cluster0 is second best option where we can find many restaurants,movie theatres and shops.Cluster 3 should be ignored because there is only national park,mountain and scenic which cannot be chosen as a place of living. It can be better chosen as tourist spot.Cluster 4 can be ignored as there is only historic site and tourist information centre."
   ]
  }
 ],
 "metadata": {
  "kernelspec": {
   "display_name": "Python",
   "language": "python",
   "name": "conda-env-python-py"
  },
  "language_info": {
   "codemirror_mode": {
    "name": "ipython",
    "version": 3
   },
   "file_extension": ".py",
   "mimetype": "text/x-python",
   "name": "python",
   "nbconvert_exporter": "python",
   "pygments_lexer": "ipython3",
   "version": "3.6.7"
  }
 },
 "nbformat": 4,
 "nbformat_minor": 4
}
